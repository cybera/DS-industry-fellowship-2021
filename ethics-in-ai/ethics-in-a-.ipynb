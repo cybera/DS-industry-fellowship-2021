{
 "cells": [
  {
   "cell_type": "markdown",
   "metadata": {
    "slideshow": {
     "slide_type": "slide"
    }
   },
   "source": [
    "<h1 align='center'>Ethics in Artificial Intelligence</h1>\n",
    "\n",
    "<h3 align='center'>Laura G. Funderburk</h3>\n",
    "\n",
    "<h3 align='center'>Data Scientist, Cybera</h3>\n",
    "\n"
   ]
  },
  {
   "cell_type": "markdown",
   "metadata": {
    "slideshow": {
     "slide_type": "slide"
    }
   },
   "source": [
    "<h2 align='center'>What is Artificial Intelligence (AI)</h2>"
   ]
  },
  {
   "cell_type": "markdown",
   "metadata": {
    "slideshow": {
     "slide_type": "slide"
    }
   },
   "source": [
    "<h2 align='center'>What is Ethics</h2>"
   ]
  },
  {
   "cell_type": "markdown",
   "metadata": {
    "slideshow": {
     "slide_type": "slide"
    }
   },
   "source": [
    "<h2 align='center'>Why Ethics in AI matter</h2>\n",
    "\n",
    "\n",
    " AI systems can behave unfairly for a variety of reasons: \n",
    "\n",
    "1. Societal biases are reflected in the training data. \n",
    "\n",
    "2. Societal biases are reflected and in the decisions made during the development and deployment of these systems. \n",
    "\n",
    "3. AI systems behave unfairly because of characteristics of the data or characteristics of the systems themselves. \n",
    "\n",
    "$$\\Rightarrow \\text{They are not mutually exclusive and often exacerbate one another} \\Leftarrow$$ \n",
    "\n"
   ]
  },
  {
   "cell_type": "markdown",
   "metadata": {
    "slideshow": {
     "slide_type": "slide"
    }
   },
   "source": [
    "<h2 align='center'>How can we determine whether an AI is behaving unfairly?</h2>\n",
    "\n",
    "\n",
    "1. Through identifying underlying misconceptions within AI - (causal: societal-based contenxt/bias, or in terms of intent, such as prejudice)\n",
    "2. Through study of impact of AI on people - (outcome: harms vs gains)\n",
    "\n",
    "**For this workshop, we define whether an AI system is behaving unfairly in terms of its impact on people.**"
   ]
  },
  {
   "cell_type": "markdown",
   "metadata": {
    "slideshow": {
     "slide_type": "subslide"
    }
   },
   "source": [
    "<h2 align='center'>A note on the word bias</h2>\n",
    "\n",
    "Since we define fairness in terms of **harms** rather than specific **causes** (such as societal-based context), we avoid the usage of the words *bias* or *debiasing*.\n"
   ]
  },
  {
   "cell_type": "markdown",
   "metadata": {
    "slideshow": {
     "slide_type": "slide"
    }
   },
   "source": [
    "<h2 align='center'>Types of harms</h2>\n",
    "\n",
    "From keynote by K. Crawford at NeurIPS 2017 <https://www.youtube.com/watch?v=fMym_BKWQzk>\n",
    "\n",
    "* *Allocation harms* can occur when AI systems extend or withhold\n",
    "  opportunities, resources, or information. \n",
    "  \n",
    "  **Sample key applications: hiring, school admissions, and lending.**\n",
    "  "
   ]
  },
  {
   "cell_type": "markdown",
   "metadata": {
    "slideshow": {
     "slide_type": "subslide"
    }
   },
   "source": [
    "<h2 align='center'>Types of harms</h2>\n",
    "\n",
    "From keynote by K. Crawford at NeurIPS 2017 <https://www.youtube.com/watch?v=fMym_BKWQzk>\n",
    "\n",
    "\n",
    "* *Quality-of-service harms* can occur when a system does not work as well for\n",
    "  one person as it does for another, even if no opportunities, resources, or\n",
    "  information are extended or withheld. \n",
    "  \n",
    "  **Sample key applications: accuracy in face recognition, document search, or product recommendation.**"
   ]
  },
  {
   "cell_type": "markdown",
   "metadata": {
    "slideshow": {
     "slide_type": "slide"
    }
   },
   "source": [
    "<h2 align='center'>How we work with information: abstraction</h2>\n",
    "\n",
    "\n",
    "**Abstracting in computer science:**  \n",
    "\n",
    "This is the process of removing physical, spatial, or temporal details or attributes in the study of objects or systems with the goal of focusing attention on details deemed more important. \n",
    "\n"
   ]
  },
  {
   "cell_type": "markdown",
   "metadata": {
    "slideshow": {
     "slide_type": "subslide"
    }
   },
   "source": [
    "<h2 align='center'>How we work with information: abstraction</h2>\n",
    "\n",
    "\n",
    "**Abstracting in mathematics:** \n",
    "\n",
    "This is the process of \n",
    "\n",
    "1. Extracting the underlying structures, patterns or properties of a mathematical concept;\n",
    "\n",
    "2. Removing any dependence on real world objects with which it might originally have been connected;\n",
    "\n",
    "3. Generalizing it so that it has wider applications.\n"
   ]
  },
  {
   "cell_type": "markdown",
   "metadata": {
    "slideshow": {
     "slide_type": "subslide"
    }
   },
   "source": [
    "<h2 align='center'>How we work with information: abstraction</h2>\n",
    "\n",
    "\n",
    "**Abstracting in machine learning:** \n",
    "\n",
    "Machine Learning encompasses all approaches (design and development of algorithms) that allow a computer to “learn”, based on a database of examples or sensor data (abstractions of real situations).\n",
    "\n",
    "In Machine Learning abstraction manifests in algorithms learning from example (supervised/unsupervised learning), and learning from reinforcement (reinforcement learning)."
   ]
  },
  {
   "cell_type": "markdown",
   "metadata": {
    "slideshow": {
     "slide_type": "subslide"
    }
   },
   "source": [
    "<h2 align='center'>How we work with information: abstraction</h2>\n",
    "\n",
    "\n",
    "**Abstracting in machine learning:** \n",
    "\n",
    "Machine Learning algorithms can be classified into three broad classes [1]\n",
    "\n",
    "1. In supervised learning, an algorithm learns a function that maps inputs to a given set of labels (classes).\n",
    "\n",
    "2. In unsupervised learning, an algorithm learns how to unravel hidden structures in unlabeled data (also called observations).\n",
    "\n",
    "3. In reinforcement learning, an algorithm learns how an agent ought to take actions in an environment so as to maximize some reward.\n",
    "\n",
    "\n"
   ]
  },
  {
   "cell_type": "markdown",
   "metadata": {
    "slideshow": {
     "slide_type": "subslide"
    }
   },
   "source": [
    "<h2 align='center'>How do we fall into misrepresentations in machine learning?</h2>\n",
    "\n",
    "\n",
    "$\\Rightarrow$ When we abstract and remove attributes or properties that have dependence on a social context, how do we determine which properties are *worth* preserving and describing?\n",
    "\n",
    "$\\Rightarrow$ What is the trade off we make when discarding a property, and are we aware of the consequences of that trade off?\n",
    "\n",
    "$\\Rightarrow$ Can we guarantee capability to identify and quantify the consequences of removing a social-based attribute? Who is on the receiving end of these consequences?"
   ]
  },
  {
   "cell_type": "markdown",
   "metadata": {
    "slideshow": {
     "slide_type": "slide"
    }
   },
   "source": [
    "<h2 align='center'>How we frame a problem is key to identifying problems in abstraction</h2>\n",
    "<h3 align='center'>The algorithmic frame</h3>\n",
    "\n",
    "Frame centered around choices made when abstracting a problem in the form of representations (input data) and labelling (outcome). \n",
    "\n",
    "Evaluated on accuracy and generalizability to data the model did not train on. \n",
    "\n",
    "**Fairness cannot be defined in this frame $\\Rightarrow$ goal is to produce a model that best captures the relationship between representations and labels.** "
   ]
  },
  {
   "cell_type": "markdown",
   "metadata": {
    "slideshow": {
     "slide_type": "subslide"
    }
   },
   "source": [
    "<h2 align='center'>How we frame a problem is key to identifying problems in abstraction</h2>\n",
    "<h3 align='center'>The data frame</h3>\n",
    "\n",
    "This frame is concerned with the quality of representations (input data) and the outcomes that result. \n",
    "\n",
    "**This additional frame allows us to question the inherent (un)fairness present in input and output data.**\n",
    "\n",
    "For example, under this frame we can question whether our training dataset incorporates demographic and socio-economic information related to an algorithm providing recommendations, and assesses the quality of those recommendations based on demographic and socio-economic information."
   ]
  },
  {
   "cell_type": "markdown",
   "metadata": {
    "slideshow": {
     "slide_type": "subslide"
    }
   },
   "source": [
    "<h2 align='center'>How we frame a problem is key to identifying problems in abstraction</h2>\n",
    "<h3 align='center'>The sociotechnical frame</h3>\n",
    "\n",
    "$$\\text{Technical Component} + \\text{Social Component} = \\text{Sociotechnical system}$$\n",
    "\n",
    "\n",
    "This frame recognizes that a machine learning model is part of the interaction between people and technology, and thus any social components of this interaction need to be modelled and incorporated accordingly.\n",
    "\n",
    "**Designers of machine learning systems who fail to consider the way in which social contexts and technologies\n",
    "are interrelated are at risk of falling into \"abstraction traps\".**"
   ]
  },
  {
   "cell_type": "markdown",
   "metadata": {
    "slideshow": {
     "slide_type": "slide"
    }
   },
   "source": [
    "<h2 align='center'>An example of the impact of using different frames in situations affecting human lives</h2>\n",
    "\n",
    "Take the example of assessing risk of re-engagement in criminal behaviour in an individual\n",
    "charged with an offense, and appropriate measures to prevent relapse, and failing\n",
    "to consider factors such as race, socio-economic status, mental health, along with\n",
    "socially-dependent views present in judges, police officers, or any actors responsible\n",
    "for recommending a course of action.\n",
    "\n"
   ]
  },
  {
   "cell_type": "markdown",
   "metadata": {
    "slideshow": {
     "slide_type": "subslide"
    }
   },
   "source": [
    "In the algorithmic framework, for example, input variables may contain previous criminal history,\n",
    "statements taken by the accused, witnesses and police officers. Labels (outcome)\n",
    "include recommendations by the algorithm on an appropriate course of action based\n",
    "on a computed risk score. Model is limited in assessing fairness out outcome.\n"
   ]
  },
  {
   "cell_type": "markdown",
   "metadata": {
    "slideshow": {
     "slide_type": "subslide"
    }
   },
   "source": [
    "The data framework could attempt to reduce unfairness by studying socio-economic\n",
    "information regarding the accused, their upbringing and how it relates to their\n",
    "current status, along with a recommendation that incorporates these factors into their\n",
    "recovery.\n",
    "\n"
   ]
  },
  {
   "cell_type": "markdown",
   "metadata": {
    "slideshow": {
     "slide_type": "subslide"
    }
   },
   "source": [
    "Within the sociotechnical framework the model incorporates not only more nuanced\n",
    "data on the history of the case, but also the social context in which judging and\n",
    "charging people with offenses take place. This model incorporates the processes\n",
    "associated with crime reporting, the offense-trial pipeline, and identifies areas\n",
    "in which different people interact with one another as outcomes are recommended."
   ]
  },
  {
   "cell_type": "markdown",
   "metadata": {
    "slideshow": {
     "slide_type": "slide"
    }
   },
   "source": [
    "<h2 align='center'>Common \"traps\" we can fall into</h2>\n",
    "\n",
    "Selbst *et al.* [2] identify five traps we can fall into when implementing a machine learning model:\n",
    "\n",
    "* The Solutionism Trap\n",
    "\n",
    "* The Ripple Effect Trap\n",
    "\n",
    "* The Formalism Trap\n",
    "\n",
    "* The Portability Trap\n",
    "\n",
    "* The Framing Trap"
   ]
  },
  {
   "cell_type": "markdown",
   "metadata": {
    "slideshow": {
     "slide_type": "subslide"
    }
   },
   "source": [
    "<h2 align='center'>Common \"traps\" we can fall into</h2>\n",
    "<h3 align='center'>The Solutionism Trap</h3>\n",
    "\n",
    "\n",
    "This trap occurs when we assume that the best solution to a problem\n",
    "involves technology, and fail to recognize other possible solutions outside of\n",
    "this realm. One area where this manifests in is within contexts in which the\n",
    "definition \"fairness\" changes or is dependent on a political context.\n"
   ]
  },
  {
   "cell_type": "markdown",
   "metadata": {
    "slideshow": {
     "slide_type": "subslide"
    }
   },
   "source": [
    "<h2 align='center'>Common \"traps\" we can fall into</h2>\n",
    "<h3 align='center'>The Ripple Effect Trap</h3>\n",
    "\n"
   ]
  },
  {
   "cell_type": "markdown",
   "metadata": {
    "slideshow": {
     "slide_type": "subslide"
    }
   },
   "source": [
    "<h2 align='center'>Common \"traps\" we can fall into</h2>\n",
    "<h3 align='center'>The Formalism Trap</h3>\n",
    "\n",
    "This trap occurs when implementing an algorithmic solution that fails to take\n",
    "into account the social dimensions associated to fairness in a situation. These\n",
    "dimensions include \"procedurality\", \"contextuality\" and \"contestability\". Such\n",
    "dimensions can often not be resolved via a purely mathematical framework.\n"
   ]
  },
  {
   "cell_type": "markdown",
   "metadata": {
    "slideshow": {
     "slide_type": "subslide"
    }
   },
   "source": [
    "<h2 align='center'>Common \"traps\" we can fall into</h2>\n",
    "<h3 align='center'>The Portability Trap</h3>\n",
    "\n",
    "\n",
    "This trap occurs when we fail to understand how reusing a model or\n",
    "algorithm that is designed for one specific social context, may not necessarily\n",
    "apply to a different social context. Reusing an algorithmic solution and failing\n",
    "to take into account differences in involved social contexts can result in misleading\n",
    "results and potentially harmful consequences if the algorithm is used to determine the\n",
    "fate of an individual."
   ]
  },
  {
   "cell_type": "markdown",
   "metadata": {
    "slideshow": {
     "slide_type": "subslide"
    }
   },
   "source": [
    "<h2 align='center'>Common \"traps\" we can fall into</h2>\n",
    "<h3 align='center'>The Framing Trap</h3>\n",
    "\n",
    "This trap occurs when we fail to consider the full picture surrounding\n",
    "a particular social context when abstracting a social problem, and implementing an\n",
    "algorithm in which the outcome involves enforcing decisions that will impact a person\n",
    "or group of people. It can occur at the data collection, data selection for learning, data processing, and labelling stages."
   ]
  },
  {
   "cell_type": "markdown",
   "metadata": {
    "slideshow": {
     "slide_type": "slide"
    }
   },
   "source": [
    "<h2 align='center'>What does this look like in practice?</h2>\n",
    "\n",
    "\n",
    "\n",
    "Reusing a machine learning algorithm used to screen job applications in the\n",
    "nursing industry, for job applications in the information technology sector. An intuitive\n",
    "yet important difference between both contexts is the difference in skills required to\n",
    "succeed in both industries. A slightly more subtle difference is the demographic differences\n",
    "in number of genders who typically work in each of these industries, resulting from wording in job postings,\n",
    "social constructs on gender and societal roles, and the male-female ratio of successful\n",
    "applicants in each field."
   ]
  },
  {
   "cell_type": "markdown",
   "metadata": {
    "slideshow": {
     "slide_type": "slide"
    }
   },
   "source": [
    "<h2 align='center'>Introducing FairLearn:<br> a Python library focused on decreasing unfairness in machine learning models </h2>"
   ]
  },
  {
   "cell_type": "markdown",
   "metadata": {
    "slideshow": {
     "slide_type": "slide"
    }
   },
   "source": [
    "This dataset is a classification problem - given a range of data about 32,000 individuals, predict whether their annual income is above or below fifty thousand dollars per year.\n",
    "\n",
    "For the purposes of this notebook, we shall treat this as a loan decision problem. The label indicates whether or not each individual repaid a loan in the past. We will use the data to train a predictor to predict whether previously unseen individuals will repay a loan or not. \n",
    "\n",
    "**The assumption is that the model predictions are used to decide whether an individual should be offered a loan.**"
   ]
  },
  {
   "cell_type": "code",
   "execution_count": null,
   "metadata": {
    "slideshow": {
     "slide_type": "skip"
    }
   },
   "outputs": [],
   "source": [
    "from sklearn.model_selection import train_test_split\n",
    "from fairlearn.reductions import GridSearch\n",
    "from fairlearn.reductions import DemographicParity, ErrorRate\n",
    "from fairlearn.metrics import MetricFrame, selection_rate#, count\n",
    "from sklearn.preprocessing import LabelEncoder, StandardScaler\n",
    "from sklearn.linear_model import LogisticRegression\n",
    "from sklearn import metrics as skm\n",
    "import pandas as pd"
   ]
  },
  {
   "cell_type": "markdown",
   "metadata": {
    "slideshow": {
     "slide_type": "slide"
    }
   },
   "source": [
    "Exploring data"
   ]
  },
  {
   "cell_type": "code",
   "execution_count": null,
   "metadata": {},
   "outputs": [],
   "source": [
    "from sklearn.datasets import fetch_openml\n",
    "data = fetch_openml(data_id=1590, as_frame=True)\n",
    "X_raw = data.data\n",
    "Y = (data.target == '>50K') * 1\n",
    "X_raw"
   ]
  },
  {
   "cell_type": "markdown",
   "metadata": {
    "slideshow": {
     "slide_type": "slide"
    }
   },
   "source": [
    "We are going to treat the sex of each individual as a sensitive feature (where 0 indicates female and 1 indicates male), and in this particular case we are going separate this feature out and drop it from the main data. We then perform some standard data preprocessing steps to convert the data into a format suitable for the ML algorithms"
   ]
  },
  {
   "cell_type": "code",
   "execution_count": null,
   "metadata": {
    "slideshow": {
     "slide_type": "slide"
    }
   },
   "outputs": [],
   "source": [
    "# Isolate 'sex' column, create dataframe without 'sex'\n",
    "A = X_raw[\"sex\"]\n",
    "X = X_raw.drop(labels=['sex'], axis=1)\n",
    "X = pd.get_dummies(X)\n",
    "\n",
    "X.head()"
   ]
  },
  {
   "cell_type": "code",
   "execution_count": null,
   "metadata": {
    "slideshow": {
     "slide_type": "subslide"
    }
   },
   "outputs": [],
   "source": [
    "# Scale data \n",
    "sc = StandardScaler()\n",
    "# Apply scaling to dataframe\n",
    "X_scaled = sc.fit_transform(X)\n",
    "X_scaled = pd.DataFrame(X_scaled, columns=X.columns)\n",
    "\n",
    "# Set up label encoder\n",
    "le = LabelEncoder()\n",
    "Y = le.fit_transform(Y)"
   ]
  },
  {
   "cell_type": "markdown",
   "metadata": {
    "slideshow": {
     "slide_type": "subslide"
    }
   },
   "source": [
    "Finally, we split the data into training and test sets:"
   ]
  },
  {
   "cell_type": "code",
   "execution_count": null,
   "metadata": {
    "slideshow": {
     "slide_type": "subslide"
    }
   },
   "outputs": [],
   "source": [
    "X_train, X_test, Y_train, Y_test, A_train, A_test = train_test_split(X_scaled,\n",
    "                                                                     Y,\n",
    "                                                                     A,\n",
    "                                                                     test_size=0.2,\n",
    "                                                                     random_state=0,\n",
    "                                                                     stratify=Y)\n",
    "\n",
    "# Work around indexing bug\n",
    "X_train = X_train.reset_index(drop=True)\n",
    "A_train = A_train.reset_index(drop=True)\n",
    "X_test = X_test.reset_index(drop=True)\n",
    "A_test = A_test.reset_index(drop=True)"
   ]
  },
  {
   "cell_type": "markdown",
   "metadata": {
    "slideshow": {
     "slide_type": "slide"
    }
   },
   "source": [
    "<h2 align='center'>Training a fairness-unaware predictor</h2>"
   ]
  },
  {
   "cell_type": "code",
   "execution_count": null,
   "metadata": {
    "slideshow": {
     "slide_type": "subslide"
    }
   },
   "outputs": [],
   "source": [
    "unmitigated_predictor = LogisticRegression(solver='liblinear', fit_intercept=True)\n",
    "\n",
    "unmitigated_predictor.fit(X_train, Y_train)"
   ]
  },
  {
   "cell_type": "markdown",
   "metadata": {
    "slideshow": {
     "slide_type": "subslide"
    }
   },
   "source": [
    "We can start to assess the predictor's fairness using the `MetricFrame`:"
   ]
  },
  {
   "cell_type": "code",
   "execution_count": null,
   "metadata": {
    "slideshow": {
     "slide_type": "subslide"
    }
   },
   "outputs": [],
   "source": [
    "metric_frame = MetricFrame(metric={\"accuracy\": skm.accuracy_score,\n",
    "                                    \"selection_rate\": selection_rate},\n",
    "                           sensitive_features=A_test,\n",
    "                           y_true=Y_test,\n",
    "                           y_pred=unmitigated_predictor.predict(X_test))\n",
    "print(metric_frame.overall)\n",
    "print(metric_frame.by_group)\n",
    "metric_frame.by_group.plot.bar(\n",
    "        subplots=True, layout=[3, 1], legend=False, figsize=[12, 8],\n",
    "        title='Accuracy and selection rate by group');"
   ]
  },
  {
   "cell_type": "markdown",
   "metadata": {
    "slideshow": {
     "slide_type": "subslide"
    }
   },
   "source": [
    "Looking at the disparity in accuracy, we see that males have an error about three times greater than the females. More interesting is the disparity in opportunity - males are offered loans at three times the rate of females.\n",
    "\n",
    "Despite the fact that we removed the feature from the training data, our predictor still discriminates based on sex. This demonstrates that simply ignoring a sensitive feature when fitting a predictor rarely eliminates unfairness. There will generally be enough other features correlated with the removed feature to lead to disparate impact."
   ]
  },
  {
   "cell_type": "markdown",
   "metadata": {
    "slideshow": {
     "slide_type": "slide"
    }
   },
   "source": [
    "<h2 align='center'>Mitigation with GridSearch</h2>\n",
    "\n",
    "The fairlearn.reductions.GridSearch class implements a simplified version of the exponentiated gradient reduction of Agarwal et al. 2018. The user supplies a standard ML estimator, which is treated as a blackbox. GridSearch works by generating a sequence of relabellings and reweightings, and trains a predictor for each.\n",
    "\n",
    "For this example, we specify demographic parity (on the sensitive feature of sex) as the fairness metric. Demographic parity requires that individuals are offered the opportunity (are approved for a loan in this example) independent of membership in the sensitive class (i.e., females and males should be offered loans at the same rate). We are using this metric for the sake of simplicity; in general, the appropriate fairness metric will not be obvious."
   ]
  },
  {
   "cell_type": "code",
   "execution_count": null,
   "metadata": {
    "slideshow": {
     "slide_type": "subslide"
    }
   },
   "outputs": [],
   "source": [
    "# Setting up GridSearch\n",
    "sweep = GridSearch(LogisticRegression(solver='liblinear', fit_intercept=True),\n",
    "                   constraints=DemographicParity(),\n",
    "                   grid_size=71)"
   ]
  },
  {
   "cell_type": "code",
   "execution_count": null,
   "metadata": {
    "slideshow": {
     "slide_type": "subslide"
    }
   },
   "outputs": [],
   "source": [
    "# Fit training data using GridSearch\n",
    "sweep.fit(X_train, Y_train,\n",
    "          sensitive_features=A_train)\n",
    "\n",
    "predictors = sweep.predictors_"
   ]
  },
  {
   "cell_type": "code",
   "execution_count": null,
   "metadata": {
    "slideshow": {
     "slide_type": "subslide"
    }
   },
   "outputs": [],
   "source": [
    "errors, disparities = [], []\n",
    "for m in predictors:\n",
    "    def classifier(X): return m.predict(X)\n",
    "\n",
    "    error = ErrorRate()\n",
    "    error.load_data(X_train, pd.Series(Y_train), sensitive_features=A_train)\n",
    "    disparity = DemographicParity()\n",
    "    disparity.load_data(X_train, pd.Series(Y_train), sensitive_features=A_train)\n",
    "\n",
    "    errors.append(error.gamma(classifier)[0])\n",
    "    disparities.append(disparity.gamma(classifier).max())\n",
    "\n",
    "all_results = pd.DataFrame({\"predictor\": predictors, \"error\": errors, \"disparity\": disparities})\n",
    "\n",
    "non_dominated = []\n",
    "for row in all_results.itertuples():\n",
    "    errors_for_lower_or_eq_disparity = all_results[\"error\"][all_results[\"disparity\"] <= row.disparity]\n",
    "    if row.error <= errors_for_lower_or_eq_disparity.min():\n",
    "        non_dominated.append(row.predictor)"
   ]
  },
  {
   "cell_type": "code",
   "execution_count": null,
   "metadata": {
    "slideshow": {
     "slide_type": "subslide"
    }
   },
   "outputs": [],
   "source": [
    "predictions = {\"unmitigated\": unmitigated_predictor.predict(X_test)}\n",
    "metric_frames = {\"unmitigated\": metric_frame}\n",
    "for i in range(len(non_dominated)):\n",
    "    key = \"dominant_model_{0}\".format(i)\n",
    "    predictions[key] = non_dominated[i].predict(X_test)\n",
    "\n",
    "    metric_frames[key] = MetricFrame(metric={\"accuracy\": skm.accuracy_score,\n",
    "                                              \"selection_rate\": selection_rate},\n",
    "                                     sensitive_features=A_test,\n",
    "                                     y_true=Y_test,\n",
    "                                     y_pred=predictions[key])\n",
    "\n",
    "import matplotlib.pyplot as plt\n",
    "x = [metric_frame.overall['accuracy'] for metric_frame in metric_frames.values()]\n",
    "y = [metric_frame.difference()['selection_rate'] for metric_frame in metric_frames.values()]\n",
    "keys = list(metric_frames.keys())\n",
    "plt.scatter(x, y)\n",
    "for i in range(len(x)):\n",
    "    plt.annotate(keys[i], (x[i] + 0.0003, y[i]))\n",
    "plt.xlabel(\"accuracy\")\n",
    "plt.ylabel(\"selection rate difference\")"
   ]
  },
  {
   "cell_type": "markdown",
   "metadata": {
    "slideshow": {
     "slide_type": "slide"
    }
   },
   "source": [
    "<h2 align='center'>References</h2>\n",
    "\n",
    "[1] Saitta, Lorenza, Zucker, Jean-Daniel, \"Abstraction in Artificial Intelligence and Complex Systems\" (2013), Chapter \"Abstraction in Machine Learning\", pp. 273--327, Springer New York,\"https://doi.org/10.1007/978-1-4614-7052-6_9 \n",
    "\n",
    "[2] Selbst, Andrew D. and Boyd, Danah and Friedler, Sorelle and Venkatasubramanian,\n",
    "      Suresh and Vertesi, Janet, \"Fairness and Abstraction in Sociotechnical Systems\" (August 23, 2018).\n",
    "      2019 ACM Conference on Fairness, Accountability, and Transparency (FAT*), 59-68, Available at\n",
    "      `SSRN: \t<https://ssrn.com/abstract=3265913>"
   ]
  },
  {
   "cell_type": "code",
   "execution_count": 1,
   "metadata": {},
   "outputs": [
    {
     "name": "stdout",
     "output_type": "stream",
     "text": [
      "absl-py==0.11.0\r\n",
      "adjustText==0.7.3\r\n",
      "aenum==2.2.3\r\n",
      "aiohttp==3.7.4.post0\r\n",
      "airr==1.3.1\r\n",
      "alabaster==0.7.12\r\n",
      "anaconda==0.0.1.1\r\n",
      "anaconda-client==1.7.2\r\n",
      "anaconda-navigator==1.9.12\r\n",
      "anaconda-project==0.8.3\r\n",
      "ansiwrap==0.8.4\r\n",
      "appdirs==1.4.4\r\n",
      "applaunchservices==0.2.1\r\n",
      "appnope==0.1.0\r\n",
      "appscript==1.0.1\r\n",
      "APScheduler==3.3.1\r\n",
      "argh==0.26.2\r\n",
      "asn1crypto==1.2.0\r\n",
      "astroid==2.3.3\r\n",
      "astropy==3.2.3\r\n",
      "astunparse==1.6.3\r\n",
      "async-generator==1.10\r\n",
      "async-timeout==3.0.1\r\n",
      "atomicwrites==1.3.0\r\n",
      "attrs==19.3.0\r\n",
      "autopep8==1.4.4\r\n",
      "Babel==2.7.0\r\n",
      "backcall==0.1.0\r\n",
      "backports.functools-lru-cache==1.6.1\r\n",
      "backports.os==0.1.1\r\n",
      "backports.shutil-get-terminal-size==1.0.0\r\n",
      "backports.tempfile==1.0\r\n",
      "backports.weakref==1.0.post1\r\n",
      "bcrypt==3.2.0\r\n",
      "beautifulsoup4==4.8.1\r\n",
      "biopython==1.76\r\n",
      "bitarray==1.2.0\r\n",
      "bkcharts==0.2\r\n",
      "black==21.5b1\r\n",
      "bleach==3.1.0\r\n",
      "blis==0.7.4\r\n",
      "bokeh==1.4.0\r\n",
      "boto==2.49.0\r\n",
      "boto3==1.14.1\r\n",
      "botocore==1.17.1\r\n",
      "Bottleneck==1.3.1\r\n",
      "branca==0.3.1\r\n",
      "cachetools==4.0.0\r\n",
      "catalogue==1.0.0\r\n",
      "certifi==2020.6.20\r\n",
      "cffi==1.13.2\r\n",
      "chardet==3.0.4\r\n",
      "chart-studio==1.0.0\r\n",
      "ciscoconfparse==1.5.19\r\n",
      "click==7.1.2\r\n",
      "click-plugins==1.1.1\r\n",
      "cligj==0.5.0\r\n",
      "cloudpickle==1.2.2\r\n",
      "clyent==1.2.2\r\n",
      "colorama==0.4.3\r\n",
      "colorlover==0.3.0\r\n",
      "colour==0.1.5\r\n",
      "conda==4.9.2\r\n",
      "conda-build==3.18.9\r\n",
      "conda-package-handling==1.6.0\r\n",
      "conda-verify==3.4.2\r\n",
      "contextlib2==0.6.0.post1\r\n",
      "coverage==5.0.4\r\n",
      "cryptography==2.8\r\n",
      "cssselect2==0.2.2\r\n",
      "cufflinks==0.17.0\r\n",
      "cycler==0.10.0\r\n",
      "cymem==2.0.5\r\n",
      "Cython==0.29.14\r\n",
      "cytoolz==0.10.1\r\n",
      "dask==2.9.0\r\n",
      "datasets==1.6.2\r\n",
      "decorator==4.4.1\r\n",
      "defusedxml==0.6.0\r\n",
      "diff-match-patch==20181111\r\n",
      "diGraph==0.1.4\r\n",
      "dill==0.3.3\r\n",
      "distributed==2.9.0\r\n",
      "dnspython==2.0.0\r\n",
      "docopt==0.6.2\r\n",
      "docutils==0.15.2\r\n",
      "ebaysdk==2.1.5\r\n",
      "elasticsearch==7.12.0\r\n",
      "elasticsearch-dsl==7.3.0\r\n",
      "entrypoints==0.3\r\n",
      "et-xmlfile==1.0.1\r\n",
      "-e git+https://github.com/lgfunderburk/fairlearn.git@bfb1e3130e8156b4089518b985f7e373919a4478#egg=fairlearn\r\n",
      "fastcache==1.1.0\r\n",
      "filelock==3.0.12\r\n",
      "Fiona==1.8.13\r\n",
      "flake8==3.7.9\r\n",
      "flake8-blind-except==0.2.0\r\n",
      "flake8-builtins==1.5.3\r\n",
      "flake8-copyright==0.2.2\r\n",
      "flake8-docstrings==1.6.0\r\n",
      "flake8-logging-format==0.6.0\r\n",
      "flake8-rst-docstrings==0.2.3\r\n",
      "Flask==1.1.1\r\n",
      "flatbuffers==1.12\r\n",
      "folium==0.10.1\r\n",
      "fsspec==0.6.2\r\n",
      "future==0.18.2\r\n",
      "gast==0.3.3\r\n",
      "gensim==3.8.3\r\n",
      "geographiclib==1.50\r\n",
      "geojson==2.5.0\r\n",
      "geopandas==0.9.0\r\n",
      "geopy==1.21.0\r\n",
      "gevent==1.4.0\r\n",
      "gitdb2==2.0.6\r\n",
      "GitPython==3.0.5\r\n",
      "glob2==0.7\r\n",
      "gmpy2==2.0.8\r\n",
      "google==2.0.3\r\n",
      "google-api-core==1.15.0\r\n",
      "google-api-python-client==1.7.11\r\n",
      "google-auth==1.10.0\r\n",
      "google-auth-httplib2==0.0.3\r\n",
      "google-auth-oauthlib==0.4.1\r\n",
      "google-cloud==0.34.0\r\n",
      "google-cloud-vision==0.41.0\r\n",
      "google-pasta==0.2.0\r\n",
      "googleapis-common-protos==1.6.0\r\n",
      "googletrans==2.4.0\r\n",
      "graphviz==0.14\r\n",
      "greenlet==0.4.15\r\n",
      "grpcio==1.32.0\r\n",
      "gspread==3.1.0\r\n",
      "gspread-dataframe==3.0.3\r\n",
      "gTTS==2.1.0\r\n",
      "gTTS-token==1.1.3\r\n",
      "gunicorn==19.9.0\r\n",
      "h5py==2.10.0\r\n",
      "HeapDict==1.0.1\r\n",
      "html5lib==1.0.1\r\n",
      "httplib2==0.15.0\r\n",
      "huggingface-hub==0.0.9\r\n",
      "hypothesis==4.54.2\r\n",
      "idna==2.8\r\n",
      "imageio==2.6.1\r\n",
      "imagesize==1.1.0\r\n",
      "importlib-metadata==1.3.0\r\n",
      "intervaltree==3.0.2\r\n",
      "ipycombobox==0.1.1\r\n",
      "ipykernel==5.1.3\r\n",
      "ipython==7.10.2\r\n",
      "ipython-genutils==0.2.0\r\n",
      "ipython-sql==0.4.0\r\n",
      "ipywidgets==7.5.1\r\n",
      "isort==4.3.21\r\n",
      "itsdangerous==1.1.0\r\n",
      "jdcal==1.4.1\r\n",
      "jedi==0.14.1\r\n",
      "Jinja2==2.11.2\r\n",
      "jmespath==0.10.0\r\n",
      "joblib==0.14.1\r\n",
      "json5==0.8.5\r\n",
      "jsonschema==3.2.0\r\n",
      "junos-eznc==2.5.4\r\n",
      "jupyter==1.0.0\r\n",
      "jupyter-client==5.3.4\r\n",
      "jupyter-console==6.1.0\r\n",
      "jupyter-core==4.6.1\r\n",
      "jupyterlab==1.2.4\r\n",
      "jupyterlab-server==1.0.6\r\n",
      "Keras==2.4.3\r\n",
      "Keras-Preprocessing==1.1.2\r\n",
      "keyring==20.0.0\r\n",
      "kiwisolver==1.1.0\r\n",
      "langdetect==1.0.8\r\n",
      "lazy-object-proxy==1.4.3\r\n",
      "libarchive-c==2.8\r\n",
      "lief==0.9.0\r\n",
      "lightgbm==3.2.1\r\n",
      "llvmlite==0.30.0\r\n",
      "locket==0.2.0\r\n",
      "lxml==4.6.3\r\n",
      "Markdown==3.2.2\r\n",
      "MarkupSafe==1.1.1\r\n",
      "matplotlib==3.4.2\r\n",
      "mccabe==0.6.1\r\n",
      "medcat==1.0.30\r\n",
      "mistune==0.8.4\r\n",
      "mkl-fft==1.0.15\r\n",
      "mkl-random==1.1.0\r\n",
      "mkl-service==2.3.0\r\n",
      "mock==3.0.5\r\n",
      "more-itertools==8.0.2\r\n",
      "mpld3==0.3\r\n",
      "mpmath==1.1.0\r\n",
      "msgpack==0.6.1\r\n",
      "multidict==5.1.0\r\n",
      "multipledispatch==0.6.0\r\n",
      "multiprocess==0.70.11.1\r\n",
      "multitasking==0.0.9\r\n",
      "munch==2.5.0\r\n",
      "murmurhash==1.0.5\r\n",
      "mypy-extensions==0.4.3\r\n",
      "napalm==3.2.0\r\n",
      "navigator-updater==0.2.1\r\n",
      "nbclient==0.5.3\r\n",
      "nbconvert==5.6.1\r\n",
      "nbformat==4.4.0\r\n",
      "nbgitpuller==0.8.0\r\n",
      "nbval==0.9.6\r\n",
      "ncclient==0.6.9\r\n",
      "nest-asyncio==1.5.1\r\n",
      "netaddr==0.8.0\r\n",
      "netmiko==3.3.2\r\n",
      "networkx==2.4\r\n",
      "nltk==3.4.5\r\n",
      "nose==1.3.7\r\n",
      "notebook==6.0.2\r\n",
      "ntc-templates==1.6.0\r\n",
      "nteract-scrapbook==0.4.2\r\n",
      "numba==0.46.0\r\n",
      "numexpr==2.7.0\r\n",
      "numpy==1.20.3\r\n",
      "numpydoc==0.9.1\r\n",
      "oauth2client==4.1.3\r\n",
      "oauthlib==3.1.0\r\n",
      "olefile==0.46\r\n",
      "openpyxl==3.0.2\r\n",
      "opt-einsum==3.3.0\r\n",
      "packaging==20.9\r\n",
      "pandas==1.2.4\r\n",
      "pandocfilters==1.4.2\r\n",
      "papermill==2.3.3\r\n",
      "paramiko==2.7.2\r\n",
      "parso==0.5.2\r\n",
      "partd==1.1.0\r\n",
      "passlib==1.7.4\r\n",
      "path==13.1.0\r\n",
      "pathlib2==2.3.5\r\n",
      "pathspec==0.8.1\r\n",
      "pathtools==0.1.2\r\n",
      "pathy==0.5.2\r\n",
      "patsy==0.5.1\r\n",
      "-e git+https://github.com/lfunderburk/testing-tutorial.git@92c1c615fa8a98e9ef03f83bc5c37643085fdc32#egg=pbt_tutorial\r\n",
      "pep8==1.7.1\r\n",
      "pexpect==4.7.0\r\n",
      "pickleshare==0.7.5\r\n",
      "Pillow==6.2.1\r\n",
      "pixiedust==1.1.18\r\n",
      "pixiedust-node==0.2.5\r\n",
      "pkginfo==1.5.0.1\r\n",
      "plac==1.1.3\r\n",
      "plotly==4.4.1\r\n",
      "plotly-express==0.4.1\r\n",
      "pluggy==0.13.1\r\n",
      "ply==3.11\r\n",
      "pprintpp==0.4.0\r\n",
      "preshed==3.0.5\r\n",
      "prettytable==0.7.2\r\n",
      "prometheus-client==0.7.1\r\n",
      "prompt-toolkit==3.0.2\r\n",
      "protobuf==3.11.2\r\n",
      "psutil==5.6.7\r\n",
      "ptyprocess==0.6.0\r\n",
      "py==1.8.0\r\n",
      "py4j==0.10.7\r\n",
      "pyarrow==4.0.0\r\n",
      "pyasn1==0.4.8\r\n",
      "pyasn1-modules==0.2.7\r\n",
      "pycodestyle==2.5.0\r\n",
      "pycosat==0.6.3\r\n",
      "pycountry==19.8.18\r\n",
      "pycountry-convert==0.7.2\r\n",
      "pycparser==2.19\r\n",
      "pycrypto==2.6.1\r\n",
      "pycurl==7.43.0.3\r\n",
      "pydantic==1.7.4\r\n",
      "pydata-sphinx-theme==0.5.2\r\n",
      "pydocstyle==4.0.1\r\n",
      "pyeapi==0.8.3\r\n",
      "pyflakes==2.1.1\r\n",
      "Pygments==2.5.2\r\n",
      "pykwalify==1.7.0\r\n",
      "pylint==2.4.4\r\n",
      "Pympler==0.7\r\n",
      "PyNaCl==1.4.0\r\n",
      "pyodbc==4.0.27\r\n",
      "pyOpenSSL==19.1.0\r\n",
      "pypandoc==1.5\r\n",
      "pyparsing==2.4.5\r\n",
      "pyproj==2.4.2.post1\r\n",
      "pyrsistent==0.15.6\r\n",
      "pyserial==3.4\r\n",
      "PySocks==1.7.1\r\n",
      "pyspark==2.4.5\r\n",
      "pytest==5.0.1\r\n",
      "pytest-arraydiff==0.3\r\n",
      "pytest-astropy==0.7.0\r\n",
      "pytest-astropy-header==0.1.1\r\n",
      "pytest-cov==2.8.1\r\n",
      "pytest-doctestplus==0.5.0\r\n",
      "pytest-mock==2.0.0\r\n",
      "pytest-mpl==0.12\r\n",
      "pytest-openfiles==0.4.0\r\n",
      "pytest-remotedata==0.3.2\r\n",
      "python-dateutil==2.8.1\r\n",
      "python-jsonrpc-server==0.3.2\r\n",
      "python-language-server==0.31.2\r\n",
      "pytz==2019.3\r\n",
      "PyWavelets==1.0.3\r\n",
      "PyYAML==5.2\r\n",
      "pyzmq==18.1.0\r\n",
      "QDarkStyle==2.7\r\n",
      "qgrid==1.2.0\r\n",
      "QtAwesome==0.6.0\r\n",
      "qtconsole==4.6.0\r\n",
      "QtPy==1.9.0\r\n",
      "regex==2021.4.4\r\n",
      "reportlab==3.5.34\r\n",
      "repoze.lru==0.7\r\n",
      "requests==2.25.1\r\n",
      "requests-oauthlib==1.3.0\r\n",
      "requirements-parser==0.2.0\r\n",
      "restructuredtext-lint==1.3.2\r\n",
      "retrying==1.3.3\r\n",
      "rise==5.6.1\r\n",
      "rope==0.14.0\r\n",
      "rsa==4.0\r\n",
      "Rtree==0.8.3\r\n",
      "ruamel-yaml==0.15.87\r\n",
      "s3transfer==0.3.3\r\n",
      "sacremoses==0.0.45\r\n",
      "scikit-image==0.15.0\r\n",
      "scikit-learn==0.24.2\r\n",
      "scipy==1.6.3\r\n",
      "scp==0.13.3\r\n",
      "seaborn==0.9.0\r\n",
      "Send2Trash==1.5.0\r\n",
      "sentinelhub==3.0.3\r\n",
      "Shapely==1.7.1\r\n",
      "simplegeneric==0.8.1\r\n",
      "singledispatch==3.4.0.3\r\n",
      "six==1.15.0\r\n",
      "sklearn==0.0\r\n",
      "smart-open==3.0.0\r\n",
      "smmap2==2.0.5\r\n",
      "snowballstemmer==2.0.0\r\n",
      "sortedcollections==1.1.2\r\n",
      "sortedcontainers==2.1.0\r\n",
      "soupsieve==1.9.5\r\n",
      "spacy==2.3.4\r\n",
      "spacy-legacy==3.0.5\r\n",
      "Sphinx==2.3.0\r\n",
      "sphinx-gallery==0.9.0\r\n",
      "sphinx-multiversion==0.2.4\r\n",
      "sphinxcontrib-applehelp==1.0.1\r\n",
      "sphinxcontrib-devhelp==1.0.1\r\n",
      "sphinxcontrib-htmlhelp==1.0.2\r\n",
      "sphinxcontrib-jsmath==1.0.1\r\n",
      "sphinxcontrib-qthelp==1.0.2\r\n",
      "sphinxcontrib-serializinghtml==1.1.3\r\n",
      "sphinxcontrib-websupport==1.1.2\r\n",
      "spyder==4.0.0\r\n",
      "spyder-kernels==1.8.1\r\n",
      "SQLAlchemy==1.3.11\r\n",
      "sqlparse==0.3.1\r\n",
      "srsly==1.0.5\r\n",
      "stats-can==2.2.2\r\n",
      "statsmodels==0.10.1\r\n",
      "surepy==0.2.6\r\n",
      "svglib==0.9.3\r\n",
      "sympy==1.5\r\n",
      "tables==3.6.1\r\n",
      "tblib==1.6.0\r\n",
      "tenacity==6.2.0\r\n",
      "tensorboard==2.4.1\r\n",
      "tensorboard-plugin-wit==1.6.0.post3\r\n",
      "tensorflow==2.4.1\r\n",
      "tensorflow-estimator==2.4.0\r\n",
      "termcolor==1.1.0\r\n",
      "terminado==0.8.3\r\n",
      "testpath==0.4.4\r\n",
      "textblob==0.15.3\r\n",
      "textfsm==1.1.0\r\n",
      "textwrap3==0.9.2\r\n",
      "thinc==7.4.5\r\n",
      "threadpoolctl==2.1.0\r\n",
      "tifffile==2020.6.3\r\n",
      "tinycss2==1.0.2\r\n",
      "tokenizers==0.10.3\r\n",
      "toml==0.10.2\r\n",
      "toolz==0.10.0\r\n",
      "torch==1.8.1\r\n",
      "torchvision==0.6.0a0+82fd1c8\r\n",
      "tornado==6.0.3\r\n",
      "tqdm==4.40.2\r\n",
      "traitlets==4.3.3\r\n",
      "transformers==4.5.1\r\n",
      "transitions==0.8.5\r\n",
      "typed-ast==1.4.3\r\n",
      "typer==0.3.2\r\n",
      "typing-extensions==3.7.4.3\r\n",
      "tzlocal==2.0.0\r\n",
      "ujson==1.35\r\n",
      "unicodecsv==0.14.1\r\n",
      "uritemplate==3.0.0\r\n",
      "urllib3==1.25.7\r\n",
      "utm==0.5.0\r\n",
      "wasabi==0.8.2\r\n",
      "watchdog==0.9.0\r\n",
      "wcwidth==0.1.7\r\n",
      "webencodings==0.5.1\r\n",
      "Werkzeug==1.0.1\r\n",
      "widgetsnbextension==3.5.1\r\n",
      "wordcloud==1.8.1\r\n",
      "world-bank-data==0.1.3\r\n",
      "wrapt==1.12.1\r\n",
      "wurlitzer==2.0.0\r\n",
      "xlrd==1.2.0\r\n",
      "XlsxWriter==1.2.6\r\n",
      "xlwings==0.16.3\r\n",
      "xlwt==1.3.0\r\n",
      "xmltodict==0.12.0\r\n",
      "xxhash==2.0.2\r\n",
      "yamlordereddictloader==0.4.0\r\n",
      "yapf==0.28.0\r\n",
      "yarl==1.6.3\r\n",
      "yfinance==0.1.59\r\n",
      "zict==1.0.0\r\n",
      "zipp==0.6.0\r\n"
     ]
    }
   ],
   "source": [
    "!pip freeze"
   ]
  },
  {
   "cell_type": "code",
   "execution_count": null,
   "metadata": {},
   "outputs": [],
   "source": []
  }
 ],
 "metadata": {
  "celltoolbar": "Slideshow",
  "kernelspec": {
   "display_name": "Python 3",
   "language": "python",
   "name": "python3"
  },
  "language_info": {
   "codemirror_mode": {
    "name": "ipython",
    "version": 3
   },
   "file_extension": ".py",
   "mimetype": "text/x-python",
   "name": "python",
   "nbconvert_exporter": "python",
   "pygments_lexer": "ipython3",
   "version": "3.7.4"
  }
 },
 "nbformat": 4,
 "nbformat_minor": 5
}
