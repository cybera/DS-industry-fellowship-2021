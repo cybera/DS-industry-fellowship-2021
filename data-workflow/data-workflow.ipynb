{
 "cells": [
  {
   "cell_type": "markdown",
   "metadata": {
    "slideshow": {
     "slide_type": "slide"
    }
   },
   "source": [
    "<h1 align='center'>Data workflow</h1>\n",
    "\n",
    "<h3 align='center'>Laura G. Funderburk</h3>\n",
    "\n",
    "<h3 align='center'>Data Scientist, Cybera</h3>"
   ]
  },
  {
   "cell_type": "markdown",
   "metadata": {
    "slideshow": {
     "slide_type": "slide"
    }
   },
   "source": [
    "<h2 align='center'>3 Data Workflow Practices I follow</h2>\n",
    "\n",
    "\n",
    "1. Leverage both Bash and Python (or R) to access and process data\n",
    "\n",
    "2. Don't be afraid of messy exploratory work\n",
    "\n",
    "3. ...but be sure to tidy up as you go!"
   ]
  },
  {
   "cell_type": "markdown",
   "metadata": {
    "slideshow": {
     "slide_type": "slide"
    }
   },
   "source": [
    "<h2 align='center'>Leverage both Bash and Python (or R) to access and process data</h2>\n"
   ]
  },
  {
   "cell_type": "markdown",
   "metadata": {
    "slideshow": {
     "slide_type": "slide"
    }
   },
   "source": [
    "<h2 align='center'>Don't be afraid of messy exploratory work</h2>\n",
    "\n"
   ]
  },
  {
   "cell_type": "markdown",
   "metadata": {
    "slideshow": {
     "slide_type": "slide"
    }
   },
   "source": [
    "<h2 align='center'>...but be sure to tidy up as you go!</h2>\n",
    "\n",
    "1. Ensure to give functions and variables descriptive names\n",
    "\n",
    "2. Document what your code does, add notes on specific data types any functions you write take and return, along with meaningful names\n",
    "\n",
    "3. Test that your code does what you think it does\n",
    "\n",
    "4. **R**efactor code, **R**educe repetition, **R**emove unused code (no need to keep a large piece of commented code \"in case I need it some day\"). "
   ]
  },
  {
   "cell_type": "markdown",
   "metadata": {
    "slideshow": {
     "slide_type": "slide"
    }
   },
   "source": [
    "<h2 align='center'>Data Collaboration Practices I follow</h2>\n",
    "\n",
    "\n",
    "1. When you write code, assume another person at some point in the future will review it. Write your code as if you are writing an article for someone else to read. \n",
    "\n",
    "2. GitHub etiquette to contribute code: fork a repository, create a new branch, make changes on that branch, create a pull request. Create clear notes on what the contribution does. \n",
    "\n",
    "    **Pro-tip: read a repository's issues and comment on them proposing your changes before you invest time creating something that might be a duplicate effort, or which is not compatible.**\n",
    "    \n",
    "3. GitHub etiquette to request code changes: create **clear**, **concise**, **well documented**, and **specific** issues and documentation on how members can interact with and add content to the repository. \n",
    "\n",
    "4. Do your best to provide construtive feedback, and assume that when someone provides feedback to you, they want to help you improve the quality of code/documentation/feature."
   ]
  },
  {
   "cell_type": "markdown",
   "metadata": {
    "slideshow": {
     "slide_type": "subslide"
    }
   },
   "source": [
    "<h2 align='center'>Hands on exercise contributing to a repository</h2>\n",
    "\n",
    "1. Visit https://github.com/cybera/DS-industry-fellowship-2021\n",
    "\n",
    "2. View issues https://github.com/cybera/DS-industry-fellowship-2021/issues\n",
    "\n",
    "3. Hands on time: breaking into two teams -> each team works together on one of the two issues\n"
   ]
  },
  {
   "cell_type": "markdown",
   "metadata": {
    "slideshow": {
     "slide_type": "subslide"
    }
   },
   "source": [
    "<h2 align='center'>Hands on exercise contributing to a repository</h2>\n",
    "\n",
    "\n",
    "In these issues there are "
   ]
  },
  {
   "cell_type": "code",
   "execution_count": 28,
   "metadata": {
    "slideshow": {
     "slide_type": "fragment"
    }
   },
   "outputs": [
    {
     "name": "stdout",
     "output_type": "stream",
     "text": [
      "5 raised to the power of 2 is 25. This method took 9.5367431640625e-07 seconds\n",
      "5 raised to the power of 2 is 25. This method took 3.814697265625e-06 seconds\n"
     ]
    }
   ],
   "source": [
    "%run -i ./scripts/dummy.py"
   ]
  },
  {
   "cell_type": "markdown",
   "metadata": {},
   "source": [
    "|`i` |`j` | `iter_sum`|\n",
    "|-|-|-|\n",
    "|0 |0 |0|\n",
    "|0 |1 |1|\n",
    "|0 |2 |3|\n",
    "|1 |0 |4|\n",
    "|1 |1 |6|\n",
    "|1 |2 |9|\n",
    "\n",
    "At the end of the loop, `iter_summ` returns 9."
   ]
  },
  {
   "cell_type": "code",
   "execution_count": null,
   "metadata": {},
   "outputs": [],
   "source": []
  }
 ],
 "metadata": {
  "celltoolbar": "Slideshow",
  "kernelspec": {
   "display_name": "Python 3",
   "language": "python",
   "name": "python3"
  },
  "language_info": {
   "codemirror_mode": {
    "name": "ipython",
    "version": 3
   },
   "file_extension": ".py",
   "mimetype": "text/x-python",
   "name": "python",
   "nbconvert_exporter": "python",
   "pygments_lexer": "ipython3",
   "version": "3.7.4"
  }
 },
 "nbformat": 4,
 "nbformat_minor": 2
}
