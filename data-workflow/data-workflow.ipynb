{
 "cells": [
  {
   "cell_type": "markdown",
   "metadata": {
    "slideshow": {
     "slide_type": "slide"
    }
   },
   "source": [
    "<h1 align='center'>Data workflow</h1>\n",
    "\n",
    "<h3 align='center'>Laura G. Funderburk</h3>\n",
    "\n",
    "<h3 align='center'>Data Scientist, Cybera</h3>"
   ]
  },
  {
   "cell_type": "markdown",
   "metadata": {
    "slideshow": {
     "slide_type": "slide"
    }
   },
   "source": [
    "<h2 align='center'>3 Data Workflow Practices I follow</h2>\n",
    "\n",
    "\n",
    "1. Leverage both Bash and Python (or R) to access and process data\n",
    "\n",
    "2. Don't be afraid of messy exploratory work\n",
    "\n",
    "3. ...but be sure to tidy up as you go!"
   ]
  },
  {
   "cell_type": "markdown",
   "metadata": {
    "slideshow": {
     "slide_type": "slide"
    }
   },
   "source": [
    "<h2 align='center'>Leverage both Bash and Python (or R) to access and process data</h2>\n",
    "\n",
    "\n",
    "To motivate this exercise, I will showcase how we can leverage these tools to write a set of scripts that:\n",
    "\n",
    "1. Download data from two different API containing data on CO2 emissions. \n",
    "\n",
    "2. Time downloads. \n",
    "\n",
    "3. Generate CSV with query output and time to download.\n",
    "\n",
    "4. Generate visualizations of the time it took two different APIs to download the data.\n",
    "\n",
    "5. Push results to a GitHub repository."
   ]
  },
  {
   "cell_type": "markdown",
   "metadata": {
    "slideshow": {
     "slide_type": "slide"
    }
   },
   "source": [
    "<h2 align='center'>Don't be afraid of messy exploratory work</h2>\n",
    "\n",
    "The scripts with final work look nice...so to motivate how I got there, here is some of what my initial exploration looked like. "
   ]
  },
  {
   "cell_type": "markdown",
   "metadata": {
    "slideshow": {
     "slide_type": "slide"
    }
   },
   "source": [
    "<h2 align='center'>Example: pulling currency data from a REST API</h2>\n",
    "\n",
    "\n",
    "https://api.carbonintensity.org.uk/\n",
    "\n",
    "Sample query I: getting factors contributing to CO2\n",
    "\n",
    "`curl https://api.carbonintensity.org.uk/intensity/factors`\n",
    "\n",
    "Sample query II: getting actual and forecasted CO2 intensity in January 1 2021\n",
    "\n",
    "`curl https://api.carbonintensity.org.uk/intensity/date/2021-01-01`\n",
    "\n",
    "Sample query III: getting\n",
    "\n",
    "`curl https://api.carbonintensity.org.uk/regional/intensity/2021-01-01/2021-06-01/regionid/1`"
   ]
  },
  {
   "cell_type": "markdown",
   "metadata": {
    "slideshow": {
     "slide_type": "skip"
    }
   },
   "source": [
    "1. North Scotland\n",
    "2. South Scotland\n",
    "3. North West England\n",
    "4. North East England\n",
    "5. South Yorkshire\n",
    "6. North Wales, Merseyside and Cheshire\n",
    "7. South Wales\n",
    "8. West Midlands\n",
    "9. East Midlands\n",
    "10. East England\n",
    "11. South West England\n",
    "12. South England\n",
    "13. London\n",
    "14. South East England\n",
    "15. England\n",
    "16. Scotland\n",
    "17. Wales"
   ]
  },
  {
   "cell_type": "code",
   "execution_count": null,
   "metadata": {
    "slideshow": {
     "slide_type": "subslide"
    }
   },
   "outputs": [],
   "source": [
    "# Code to curl data using Python\n",
    "import requests\n",
    "import pandas as pd\n",
    "import time\n",
    "import plotly.express as px\n",
    "\n",
    "# Get codes\n",
    "factors_url = \"https://api.carbonintensity.org.uk/intensity/factors\"\n",
    "factors_response = requests.get(factors_url)\n",
    "factors_response.raise_for_status()\n",
    "factors_jsonResponse = factors_response.json()"
   ]
  },
  {
   "cell_type": "code",
   "execution_count": null,
   "metadata": {
    "scrolled": true,
    "slideshow": {
     "slide_type": "subslide"
    }
   },
   "outputs": [],
   "source": [
    "print(factors_jsonResponse)\n",
    "\n",
    "display(pd.json_normalize(factors_jsonResponse, record_path='data'))\n",
    "\n"
   ]
  },
  {
   "cell_type": "markdown",
   "metadata": {
    "slideshow": {
     "slide_type": "subslide"
    }
   },
   "source": [
    "Suppose we want to download all daily data between November 1 2020 and July 1 2021? We'd have to repeat code over, and over and over again. \n",
    "\n",
    "We will create a function instead!\n"
   ]
  },
  {
   "cell_type": "code",
   "execution_count": null,
   "metadata": {
    "slideshow": {
     "slide_type": "subslide"
    }
   },
   "outputs": [],
   "source": [
    "def perform_query(url):\n",
    "    start_time = time.time()\n",
    "    # Using GET command \n",
    "    response = requests.get(url)\n",
    "    total_time = time.time() - start_time\n",
    "    \n",
    "    # Raise issues if response is different from 200\n",
    "    response.raise_for_status()\n",
    "    \n",
    "    # access JSOn content\n",
    "    jsonResponse = response.json()\n",
    "    \n",
    "    return jsonResponse"
   ]
  },
  {
   "cell_type": "markdown",
   "metadata": {
    "slideshow": {
     "slide_type": "subslide"
    }
   },
   "source": [
    "We then document our function, and make it more robust. "
   ]
  },
  {
   "cell_type": "code",
   "execution_count": null,
   "metadata": {
    "slideshow": {
     "slide_type": "subslide"
    }
   },
   "outputs": [],
   "source": [
    "def perform_query(url):\n",
    "    \"\"\"\n",
    "    This function performs a query on a REST API and returns a dataframe with the content \n",
    "    of the query\n",
    "    \n",
    "    Parameters\n",
    "    ----------\n",
    "        url (str) full URL containing the query\n",
    "        record_flag (bool)\n",
    "        \n",
    "    Returns\n",
    "    -------\n",
    "        flat_df (dataframe object) containing JSON response in dataframe format\n",
    "    \"\"\"\n",
    "    \n",
    "    try:\n",
    "        # Time query\n",
    "        start_time = time.time()\n",
    "        # Using GET command \n",
    "        response = requests.get(url)\n",
    "        total_time = time.time() - start_time\n",
    "        print(total_time)\n",
    "        # Raise issues if response is different from 200\n",
    "        response.raise_for_status()\n",
    "\n",
    "        # access JSOn content\n",
    "        jsonResponse = response.json()\n",
    "\n",
    "        return jsonResponse\n",
    "    \n",
    "    except HTTPError as http_err:\n",
    "        print(f'HTTP error occurred: {http_err}')\n",
    "    except Exception as err:\n",
    "        print(f'Other error occurred: {err}')"
   ]
  },
  {
   "cell_type": "markdown",
   "metadata": {
    "slideshow": {
     "slide_type": "subslide"
    }
   },
   "source": [
    "We can then use function and iterate.\n",
    "\n",
    "Rembember:\n",
    "\n",
    "1. Get your function to do one thing at a time\n",
    "\n",
    "2. Document your functions (tell us what your function does, add variable and function names that are meaningful)\n",
    "\n",
    "3. Ensure your functions are robust - test what happens on edge cases and handle those cases."
   ]
  },
  {
   "cell_type": "code",
   "execution_count": null,
   "metadata": {
    "scrolled": true,
    "slideshow": {
     "slide_type": "subslide"
    }
   },
   "outputs": [],
   "source": [
    "# Create data range \n",
    "date_range = pd.date_range(start=\"2019-01-01\", end=\"2019-01-01\", freq='D')\n",
    "dates = [date.date() for date in date_range]\n",
    "# Iterate over all dates \n",
    "# Perform query\n",
    "# Store content into master dataframe\n",
    "all_df = []\n",
    "for item in dates:\n",
    "    new_url = f'https://api.carbonintensity.org.uk/intensity/date/{item}'\n",
    "    query = perform_query(new_url)\n",
    "    df = pd.json_normalize(query, record_path=\"data\")\n",
    "    all_df.append(df)\n"
   ]
  },
  {
   "cell_type": "code",
   "execution_count": null,
   "metadata": {
    "slideshow": {
     "slide_type": "subslide"
    }
   },
   "outputs": [],
   "source": [
    "def download_intensity_by_date(start_d, end_d):\n",
    "    \n",
    "    \"\"\"\n",
    "    This function downloads actual and forecasted intensity during a given time range\n",
    "    \n",
    "    Parameters\n",
    "    ----------\n",
    "    start_d (str) date in format YYYY-MM-DD indicating start of observations\n",
    "    end_d (str) date in format YYYY-MM-DD indicating end of observations\n",
    "    \n",
    "    Returns\n",
    "    -------\n",
    "    \n",
    "    \"\"\"\n",
    "    try:\n",
    "        # Create data range \n",
    "        date_range = pd.date_range(start=start_d, end=end_d, freq='D')\n",
    "        dates = [date.date() for date in date_range]\n",
    "        # Iterate over all dates \n",
    "        # Perform query\n",
    "        # Store content into master dataframe\n",
    "        all_df = []\n",
    "        for item in dates:\n",
    "            new_url = f'https://api.carbonintensity.org.uk/intensity/date/{item}'\n",
    "            query = perform_query(new_url)\n",
    "            df = pd.json_normalize(query, record_path=\"data\")\n",
    "            all_df.append(df)\n",
    "\n",
    "\n",
    "        return all_df\n",
    "    except:\n",
    "        print(\"Error\")"
   ]
  },
  {
   "cell_type": "markdown",
   "metadata": {
    "slideshow": {
     "slide_type": "subslide"
    }
   },
   "source": [
    "Try it out!!!"
   ]
  },
  {
   "cell_type": "code",
   "execution_count": null,
   "metadata": {
    "scrolled": false,
    "slideshow": {
     "slide_type": "subslide"
    }
   },
   "outputs": [],
   "source": [
    "start=\"2019-12-01\"\n",
    "end=\"2019-12-10\"\n",
    "all_df = download_intensity_by_date(start, end)\n",
    "\n",
    "master_sheet = pd.concat(all_df)\n",
    "display(master_sheet.head())\n",
    "print(master_sheet.info())"
   ]
  },
  {
   "cell_type": "markdown",
   "metadata": {
    "slideshow": {
     "slide_type": "subslide"
    }
   },
   "source": [
    "Once your function is ready and tested, bring it to your script. \n",
    "\n"
   ]
  },
  {
   "cell_type": "code",
   "execution_count": null,
   "metadata": {
    "slideshow": {
     "slide_type": "subslide"
    }
   },
   "outputs": [],
   "source": [
    "# Time formatting\n",
    "master_sheet['from.date'] = pd.to_datetime(master_sheet['from'], format='%Y-%m-%d')\n",
    "master_sheet['to.date'] = pd.to_datetime(master_sheet['to'], format='%Y-%m-%d')\n",
    "\n",
    "# daily average\n",
    "davg_df2 = master_sheet[[\"from.date\",\\\n",
    "                         'intensity.actual',\\\n",
    "                         'intensity.forecast']].groupby([pd.Grouper(freq='D', key='from.date')]).mean()\n"
   ]
  },
  {
   "cell_type": "code",
   "execution_count": null,
   "metadata": {
    "slideshow": {
     "slide_type": "subslide"
    }
   },
   "outputs": [],
   "source": [
    "davg_df2"
   ]
  },
  {
   "cell_type": "code",
   "execution_count": null,
   "metadata": {
    "slideshow": {
     "slide_type": "subslide"
    }
   },
   "outputs": [],
   "source": [
    "px.scatter(data_frame=davg_df2, \n",
    "           x=davg_df2.index, \n",
    "           y='intensity.actual',\n",
    "          title=\"Recorded intensity (2019 - 2021)\",\n",
    "          labels = {'x':\"Date\", \"intensity.actual\": \"Recorded intensity\"})"
   ]
  },
  {
   "cell_type": "code",
   "execution_count": null,
   "metadata": {
    "slideshow": {
     "slide_type": "subslide"
    }
   },
   "outputs": [],
   "source": [
    "px.scatter(data_frame=davg_df2, \n",
    "           x=davg_df2.index, \n",
    "           y='intensity.forecast',\n",
    "          title=\"Recorded intensity (2019 - 2021)\",\n",
    "          labels = {'x':\"Date\", \"intensity.forecast\": \"Forecasted intensity\"})\n"
   ]
  },
  {
   "cell_type": "code",
   "execution_count": null,
   "metadata": {
    "slideshow": {
     "slide_type": "subslide"
    }
   },
   "outputs": [],
   "source": [
    "px.scatter(data_frame=davg_df2, \n",
    "           x='intensity.forecast', \n",
    "           y='intensity.actual',\n",
    "          title=\"Intensity: actual vs forecasted\",\n",
    "          labels = {'intensity.recorded':\"Forecasted intensity\", \"intensity.actual\": \"Recorded intensity\"},\n",
    "          hover_name=davg_df2.index)"
   ]
  },
  {
   "cell_type": "code",
   "execution_count": null,
   "metadata": {
    "slideshow": {
     "slide_type": "subslide"
    }
   },
   "outputs": [],
   "source": [
    "# Demonstrate bringing our Python script into Bash and automate\n",
    "# Let's explore building a script together"
   ]
  },
  {
   "cell_type": "markdown",
   "metadata": {
    "slideshow": {
     "slide_type": "slide"
    }
   },
   "source": [
    "<h2 align='center'>...but be sure to tidy up as you go!</h2>\n",
    "\n",
    "1. Ensure to give functions and variables descriptive names\n",
    "\n",
    "2. Document what your code does, add notes on specific data types any functions you write take and return, along with meaningful names\n",
    "\n",
    "3. Test that your code does what you think it does\n",
    "\n",
    "4. **R**efactor code, **R**educe repetition, **R**emove unused code (no need to keep a large piece of commented code \"in case I need it some day\"). "
   ]
  },
  {
   "cell_type": "markdown",
   "metadata": {
    "slideshow": {
     "slide_type": "slide"
    }
   },
   "source": [
    "<h2 align='center'>Data Collaboration Practices I follow</h2>\n",
    "\n",
    "\n",
    "1. When you write code, assume another person at some point in the future will review it. Write your code as if you are writing an article for someone else to read. \n",
    "\n",
    "2. GitHub etiquette to contribute code: fork a repository, create a new branch, make changes on that branch, create a pull request. Create clear notes on what the contribution does. \n",
    "\n",
    "    **Pro-tip: read a repository's issues and comment on them proposing your changes before you invest time creating something that might be a duplicate effort, or which is not compatible.**\n",
    "    \n",
    "3. GitHub etiquette to request code changes: create **clear**, **concise**, **well documented**, and **specific** issues and documentation on how members can interact with and add content to the repository. \n",
    "\n",
    "4. Do your best to provide construtive feedback, and assume that when someone provides feedback to you, they want to help you improve the quality of code/documentation/feature."
   ]
  },
  {
   "cell_type": "markdown",
   "metadata": {
    "slideshow": {
     "slide_type": "subslide"
    }
   },
   "source": [
    "<h2 align='center'>Hands on exercise contributing to a repository</h2>\n",
    "\n",
    "1. Visit https://github.com/cybera/DS-industry-fellowship-2021\n",
    "\n",
    "2. View issues https://github.com/cybera/DS-industry-fellowship-2021/issues\n",
    "\n",
    "3. Hands on time: breaking into two teams -> each team works together on one of the two issues\n"
   ]
  },
  {
   "cell_type": "markdown",
   "metadata": {
    "slideshow": {
     "slide_type": "subslide"
    }
   },
   "source": [
    "<h2 align='center'>Hands on exercise contributing to a repository</h2>\n",
    "\n",
    "\n",
    "In these issues there are tasks for improving code quality in a python script called `dummy.py`. \n",
    "\n",
    "Let's first get familiar with what the code does."
   ]
  },
  {
   "cell_type": "code",
   "execution_count": null,
   "metadata": {
    "slideshow": {
     "slide_type": "fragment"
    }
   },
   "outputs": [],
   "source": [
    "%run -i ./scripts/dummy.py"
   ]
  },
  {
   "cell_type": "markdown",
   "metadata": {
    "slideshow": {
     "slide_type": "fragment"
    }
   },
   "source": [
    "The function sample_function will take two numbers (a,b) and perform the equivalent of taking $b^2$. \n",
    "\n",
    "For example, if $a = 2$ and $b = 3$, the function will compute $3^2 = 9$\n",
    "\n",
    "|`i` |`j` | `iter_sum`|\n",
    "|-|-|-|\n",
    "|0 |0 |0|\n",
    "|0 |1 |1|\n",
    "|0 |2 |3|\n",
    "|1 |0 |4|\n",
    "|1 |1 |6|\n",
    "|1 |2 |9|\n",
    "\n",
    "Our scripts time both approaches.\n",
    "\n",
    "At the end of the loop, `iter_summ` returns 9."
   ]
  },
  {
   "cell_type": "markdown",
   "metadata": {
    "slideshow": {
     "slide_type": "slide"
    }
   },
   "source": [
    "<h2 align='center'>Summary of what we learned</h2>\n"
   ]
  },
  {
   "cell_type": "code",
   "execution_count": null,
   "metadata": {},
   "outputs": [],
   "source": []
  }
 ],
 "metadata": {
  "celltoolbar": "Slideshow",
  "kernelspec": {
   "display_name": "Python 3",
   "language": "python",
   "name": "python3"
  },
  "language_info": {
   "codemirror_mode": {
    "name": "ipython",
    "version": 3
   },
   "file_extension": ".py",
   "mimetype": "text/x-python",
   "name": "python",
   "nbconvert_exporter": "python",
   "pygments_lexer": "ipython3",
   "version": "3.7.4"
  }
 },
 "nbformat": 4,
 "nbformat_minor": 2
}
